{
  "nbformat": 4,
  "nbformat_minor": 0,
  "metadata": {
    "colab": {
      "name": "GNN_demo.ipynb",
      "provenance": [],
      "collapsed_sections": []
    },
    "kernelspec": {
      "name": "python3",
      "display_name": "Python 3"
    },
    "language_info": {
      "name": "python"
    }
  },
  "cells": [
    {
      "cell_type": "markdown",
      "metadata": {
        "id": "zjLKFgqwOLw0"
      },
      "source": [
        "**Install PyTorch Geometric** and set params"
      ]
    },
    {
      "cell_type": "code",
      "metadata": {
        "id": "8IQ_IcnBOIk4",
        "colab": {
          "base_uri": "https://localhost:8080/"
        },
        "outputId": "f6e081f4-058b-4803-b73c-ec1d37cdaed4"
      },
      "source": [
        "import torch\n",
        "\n",
        "def format_pytorch_version(version):\n",
        "  return version.split('+')[0]\n",
        "\n",
        "TORCH_version = torch.__version__\n",
        "TORCH = format_pytorch_version(TORCH_version)\n",
        "\n",
        "def format_cuda_version(version):\n",
        "  return 'cu' + version.replace('.', '')\n",
        "\n",
        "CUDA_version = torch.version.cuda\n",
        "CUDA = format_cuda_version(CUDA_version)\n",
        "\n",
        "!pip install torch-scatter     -f https://pytorch-geometric.com/whl/torch-{TORCH}+{CUDA}.html\n",
        "!pip install torch-sparse      -f https://pytorch-geometric.com/whl/torch-{TORCH}+{CUDA}.html\n",
        "!pip install torch-cluster     -f https://pytorch-geometric.com/whl/torch-{TORCH}+{CUDA}.html\n",
        "!pip install torch-spline-conv -f https://pytorch-geometric.com/whl/torch-{TORCH}+{CUDA}.html\n",
        "!pip install torch-geometric "
      ],
      "execution_count": 1,
      "outputs": [
        {
          "output_type": "stream",
          "text": [
            "Looking in links: https://pytorch-geometric.com/whl/torch-1.8.1+cu101.html\n",
            "Collecting torch-scatter\n",
            "  Downloading https://files.pythonhosted.org/packages/91/26/f2f0767a0e72c38d5d17f53117deb8aaafaf58f4ad658cee56cd5158c979/torch_scatter-2.0.6.tar.gz\n",
            "Building wheels for collected packages: torch-scatter\n",
            "  Building wheel for torch-scatter (setup.py) ... \u001b[?25l\u001b[?25hdone\n",
            "  Created wheel for torch-scatter: filename=torch_scatter-2.0.6-cp37-cp37m-linux_x86_64.whl size=292563 sha256=16f16e498911cd4ded18870f9a2767e3635f08a32d718a49368ef9decfb91588\n",
            "  Stored in directory: /root/.cache/pip/wheels/d6/bf/04/7c9e0c1466d37548e5c7c7c2daee2b7f90ce616f102c68bf07\n",
            "Successfully built torch-scatter\n",
            "Installing collected packages: torch-scatter\n",
            "Successfully installed torch-scatter-2.0.6\n",
            "Looking in links: https://pytorch-geometric.com/whl/torch-1.8.1+cu101.html\n",
            "Collecting torch-sparse\n",
            "  Downloading https://files.pythonhosted.org/packages/9a/86/699eb78ea7ce259da7f9953858ec2a064e4e5f5e6bf7de53aa6c8bb8b9a8/torch_sparse-0.6.9.tar.gz\n",
            "Requirement already satisfied: scipy in /usr/local/lib/python3.7/dist-packages (from torch-sparse) (1.4.1)\n",
            "Requirement already satisfied: numpy>=1.13.3 in /usr/local/lib/python3.7/dist-packages (from scipy->torch-sparse) (1.19.5)\n",
            "Building wheels for collected packages: torch-sparse\n",
            "  Building wheel for torch-sparse (setup.py) ... \u001b[?25l\u001b[?25hdone\n",
            "  Created wheel for torch-sparse: filename=torch_sparse-0.6.9-cp37-cp37m-linux_x86_64.whl size=432297 sha256=ffcfcf0741551322e5f339745f1fc19ccdc1cc4f23ca2cc680cc03ec93a23664\n",
            "  Stored in directory: /root/.cache/pip/wheels/6c/9f/3e/8813c1f7e87d12b01b830d3506e7f3f6b044d9d53769057ddb\n",
            "Successfully built torch-sparse\n",
            "Installing collected packages: torch-sparse\n",
            "Successfully installed torch-sparse-0.6.9\n",
            "Looking in links: https://pytorch-geometric.com/whl/torch-1.8.1+cu101.html\n",
            "Collecting torch-cluster\n",
            "  Downloading https://files.pythonhosted.org/packages/4b/27/2f38017ae386ba27c13efe6a87eca7c3c58766c3117c86e0fa2c3f7562a9/torch_cluster-1.5.9.tar.gz\n",
            "Building wheels for collected packages: torch-cluster\n",
            "  Building wheel for torch-cluster (setup.py) ... \u001b[?25l\u001b[?25hdone\n",
            "  Created wheel for torch-cluster: filename=torch_cluster-1.5.9-cp37-cp37m-linux_x86_64.whl size=391561 sha256=93876b0c92cb3be5965bf445a8b7ca1e9b6b2b02e122d96f3591bf528d27e876\n",
            "  Stored in directory: /root/.cache/pip/wheels/bb/06/a4/7c6e240d8c7c17e580f4f58c3995aedbb911a9177b8dd5807a\n",
            "Successfully built torch-cluster\n",
            "Installing collected packages: torch-cluster\n",
            "Successfully installed torch-cluster-1.5.9\n",
            "Looking in links: https://pytorch-geometric.com/whl/torch-1.8.1+cu101.html\n",
            "Collecting torch-spline-conv\n",
            "  Downloading https://files.pythonhosted.org/packages/80/f8/4d010376565c59b3c397b1cf103edc4e9b2ed087c2bbd3677f0a92930d75/torch_spline_conv-1.2.1.tar.gz\n",
            "Building wheels for collected packages: torch-spline-conv\n",
            "  Building wheel for torch-spline-conv (setup.py) ... \u001b[?25l\u001b[?25hdone\n",
            "  Created wheel for torch-spline-conv: filename=torch_spline_conv-1.2.1-cp37-cp37m-linux_x86_64.whl size=138849 sha256=6afe33e3d2eb1388496664963fa65ee9f916dd14216f678adf4db575eb266824\n",
            "  Stored in directory: /root/.cache/pip/wheels/d0/be/18/3b4ca4ad8295f60bb2cbd9f47708f97ffcf13e9f33bcd88806\n",
            "Successfully built torch-spline-conv\n",
            "Installing collected packages: torch-spline-conv\n",
            "Successfully installed torch-spline-conv-1.2.1\n",
            "Collecting torch-geometric\n",
            "\u001b[?25l  Downloading https://files.pythonhosted.org/packages/59/5c/3e95b76321fb14f24cc2ace392075717f645c4632e796ee0db1bc7d17231/torch_geometric-1.6.3.tar.gz (186kB)\n",
            "\u001b[K     |████████████████████████████████| 194kB 8.9MB/s \n",
            "\u001b[?25hRequirement already satisfied: torch in /usr/local/lib/python3.7/dist-packages (from torch-geometric) (1.8.1+cu101)\n",
            "Requirement already satisfied: numpy in /usr/local/lib/python3.7/dist-packages (from torch-geometric) (1.19.5)\n",
            "Requirement already satisfied: tqdm in /usr/local/lib/python3.7/dist-packages (from torch-geometric) (4.41.1)\n",
            "Requirement already satisfied: scipy in /usr/local/lib/python3.7/dist-packages (from torch-geometric) (1.4.1)\n",
            "Requirement already satisfied: networkx in /usr/local/lib/python3.7/dist-packages (from torch-geometric) (2.5)\n",
            "Requirement already satisfied: python-louvain in /usr/local/lib/python3.7/dist-packages (from torch-geometric) (0.15)\n",
            "Requirement already satisfied: scikit-learn in /usr/local/lib/python3.7/dist-packages (from torch-geometric) (0.22.2.post1)\n",
            "Requirement already satisfied: numba in /usr/local/lib/python3.7/dist-packages (from torch-geometric) (0.51.2)\n",
            "Requirement already satisfied: requests in /usr/local/lib/python3.7/dist-packages (from torch-geometric) (2.23.0)\n",
            "Requirement already satisfied: pandas in /usr/local/lib/python3.7/dist-packages (from torch-geometric) (1.1.5)\n",
            "Collecting rdflib\n",
            "\u001b[?25l  Downloading https://files.pythonhosted.org/packages/d0/6b/6454aa1db753c0f8bc265a5bd5c10b5721a4bb24160fb4faf758cf6be8a1/rdflib-5.0.0-py3-none-any.whl (231kB)\n",
            "\u001b[K     |████████████████████████████████| 235kB 13.0MB/s \n",
            "\u001b[?25hRequirement already satisfied: h5py in /usr/local/lib/python3.7/dist-packages (from torch-geometric) (2.10.0)\n",
            "Requirement already satisfied: googledrivedownloader in /usr/local/lib/python3.7/dist-packages (from torch-geometric) (0.4)\n",
            "Collecting ase\n",
            "\u001b[?25l  Downloading https://files.pythonhosted.org/packages/a5/36/de17e79f29e06d9a92746d0dd9ec4636487ab03f6af10e78586aae533f7a/ase-3.21.1-py3-none-any.whl (2.2MB)\n",
            "\u001b[K     |████████████████████████████████| 2.2MB 14.6MB/s \n",
            "\u001b[?25hRequirement already satisfied: jinja2 in /usr/local/lib/python3.7/dist-packages (from torch-geometric) (2.11.3)\n",
            "Requirement already satisfied: typing-extensions in /usr/local/lib/python3.7/dist-packages (from torch->torch-geometric) (3.7.4.3)\n",
            "Requirement already satisfied: decorator>=4.3.0 in /usr/local/lib/python3.7/dist-packages (from networkx->torch-geometric) (4.4.2)\n",
            "Requirement already satisfied: joblib>=0.11 in /usr/local/lib/python3.7/dist-packages (from scikit-learn->torch-geometric) (1.0.1)\n",
            "Requirement already satisfied: setuptools in /usr/local/lib/python3.7/dist-packages (from numba->torch-geometric) (54.2.0)\n",
            "Requirement already satisfied: llvmlite<0.35,>=0.34.0.dev0 in /usr/local/lib/python3.7/dist-packages (from numba->torch-geometric) (0.34.0)\n",
            "Requirement already satisfied: idna<3,>=2.5 in /usr/local/lib/python3.7/dist-packages (from requests->torch-geometric) (2.10)\n",
            "Requirement already satisfied: chardet<4,>=3.0.2 in /usr/local/lib/python3.7/dist-packages (from requests->torch-geometric) (3.0.4)\n",
            "Requirement already satisfied: urllib3!=1.25.0,!=1.25.1,<1.26,>=1.21.1 in /usr/local/lib/python3.7/dist-packages (from requests->torch-geometric) (1.24.3)\n",
            "Requirement already satisfied: certifi>=2017.4.17 in /usr/local/lib/python3.7/dist-packages (from requests->torch-geometric) (2020.12.5)\n",
            "Requirement already satisfied: python-dateutil>=2.7.3 in /usr/local/lib/python3.7/dist-packages (from pandas->torch-geometric) (2.8.1)\n",
            "Requirement already satisfied: pytz>=2017.2 in /usr/local/lib/python3.7/dist-packages (from pandas->torch-geometric) (2018.9)\n",
            "Requirement already satisfied: six in /usr/local/lib/python3.7/dist-packages (from rdflib->torch-geometric) (1.15.0)\n",
            "Collecting isodate\n",
            "\u001b[?25l  Downloading https://files.pythonhosted.org/packages/9b/9f/b36f7774ff5ea8e428fdcfc4bb332c39ee5b9362ddd3d40d9516a55221b2/isodate-0.6.0-py2.py3-none-any.whl (45kB)\n",
            "\u001b[K     |████████████████████████████████| 51kB 7.1MB/s \n",
            "\u001b[?25hRequirement already satisfied: pyparsing in /usr/local/lib/python3.7/dist-packages (from rdflib->torch-geometric) (2.4.7)\n",
            "Requirement already satisfied: matplotlib>=2.0.0 in /usr/local/lib/python3.7/dist-packages (from ase->torch-geometric) (3.2.2)\n",
            "Requirement already satisfied: MarkupSafe>=0.23 in /usr/local/lib/python3.7/dist-packages (from jinja2->torch-geometric) (1.1.1)\n",
            "Requirement already satisfied: cycler>=0.10 in /usr/local/lib/python3.7/dist-packages (from matplotlib>=2.0.0->ase->torch-geometric) (0.10.0)\n",
            "Requirement already satisfied: kiwisolver>=1.0.1 in /usr/local/lib/python3.7/dist-packages (from matplotlib>=2.0.0->ase->torch-geometric) (1.3.1)\n",
            "Building wheels for collected packages: torch-geometric\n",
            "  Building wheel for torch-geometric (setup.py) ... \u001b[?25l\u001b[?25hdone\n",
            "  Created wheel for torch-geometric: filename=torch_geometric-1.6.3-cp37-none-any.whl size=322719 sha256=cb3b9924bcdba08f8c027414d6e9c659312f1f8be133a9b73cc870b890878b39\n",
            "  Stored in directory: /root/.cache/pip/wheels/6d/47/1e/0af8ce3e21783c3e584c22502011a3367c091694eebc50a971\n",
            "Successfully built torch-geometric\n",
            "Installing collected packages: isodate, rdflib, ase, torch-geometric\n",
            "Successfully installed ase-3.21.1 isodate-0.6.0 rdflib-5.0.0 torch-geometric-1.6.3\n"
          ],
          "name": "stdout"
        }
      ]
    },
    {
      "cell_type": "code",
      "metadata": {
        "id": "FOfZuTOhrz8G"
      },
      "source": [
        "import numpy as np\n",
        "np.random.seed(0)\n",
        "torch.manual_seed(999)\n",
        "if torch.cuda.is_available():\n",
        "    torch.cuda.manual_seed_all(999)\n",
        "    torch.cuda.empty_cache()\n",
        "\n",
        "device = torch.device('cuda' if torch.cuda.is_available() else 'cpu')"
      ],
      "execution_count": 2,
      "outputs": []
    },
    {
      "cell_type": "markdown",
      "metadata": {
        "id": "dbJZSULePaY-"
      },
      "source": [
        "**Load Dataset.**\n",
        "\n",
        "Here we use an ENZYMES dataset (consisting of 600 graphs within 6 classes) from \"TUDataset\".\n",
        "\n",
        "- PyTorch Geometric has more built-in benchmark dataset available (citation networks, molecules, 3d point clouds, etc.), you can check them out here: https://pytorch-geometric.readthedocs.io/en/latest/notes/introduction.html#common-benchmark-datasets \n",
        "\n",
        "- To understand the data structure of pytorch geometric graphs: https://pytorch-geometric.readthedocs.io/en/latest/notes/introduction.html#data-handling-of-graphs\n",
        "\n",
        "- You can also create your own dataset: https://pytorch-geometric.readthedocs.io/en/latest/notes/create_dataset.html "
      ]
    },
    {
      "cell_type": "code",
      "metadata": {
        "id": "H7Z1m57DOWbO",
        "colab": {
          "base_uri": "https://localhost:8080/"
        },
        "outputId": "fd27735d-dc5a-4314-f23f-c2a9dc51be5f"
      },
      "source": [
        "from torch_geometric.datasets import TUDataset\n",
        "\n",
        "dataset = TUDataset(root='/tmp/ENZYMES', name='ENZYMES')\n",
        "\n",
        "\n",
        "dataset = dataset.shuffle()\n",
        "train_dataset = dataset[:450]\n",
        "val_dataset = dataset[450:550]\n",
        "test_dataset = dataset[550:]"
      ],
      "execution_count": 3,
      "outputs": [
        {
          "output_type": "stream",
          "text": [
            "Downloading https://www.chrsmrrs.com/graphkerneldatasets/ENZYMES.zip\n",
            "Extracting /tmp/ENZYMES/ENZYMES/ENZYMES.zip\n",
            "Processing...\n",
            "Done!\n"
          ],
          "name": "stdout"
        }
      ]
    },
    {
      "cell_type": "code",
      "metadata": {
        "colab": {
          "base_uri": "https://localhost:8080/"
        },
        "id": "1HIpUr2bS9MD",
        "outputId": "326a42e3-06d3-4ccc-98c6-06cf329f12f6"
      },
      "source": [
        "# Take a look at the dataset!\n",
        "print('length of dataset:', len(dataset))\n",
        "print('number of classes:', dataset.num_classes)\n",
        "print('node feature dimension:', dataset.num_node_features)\n",
        "data = dataset[0]\n",
        "print(data.is_undirected())\n",
        "print(data)\n",
        "\n",
        "print('We can see that the first graph in the shuffled dataset contains {} nodes, each one having {} features. \\\n",
        "There are {} undirected edges and the graph is assigned to exactly one class.'.format(data.x.shape[0], data.x.shape[1],\n",
        "                                                                                         data.edge_index.shape[1]//2))"
      ],
      "execution_count": 4,
      "outputs": [
        {
          "output_type": "stream",
          "text": [
            "length of dataset: 600\n",
            "number of classes: 6\n",
            "node feature dimension: 3\n",
            "True\n",
            "Data(edge_index=[2, 164], x=[45, 3], y=[1])\n",
            "We can see that the first graph in the shuffled dataset contains 45 nodes, each one having 3 features. There are 82 undirected edges and the graph is assigned to exactly one class.\n"
          ],
          "name": "stdout"
        }
      ]
    },
    {
      "cell_type": "code",
      "metadata": {
        "colab": {
          "base_uri": "https://localhost:8080/",
          "height": 497
        },
        "id": "9jylAdVK4kcw",
        "outputId": "b0c69e62-af4f-4ca8-a027-dc79a19e590e"
      },
      "source": [
        "# if you want to visualize the graph...\n",
        "\n",
        "! pip install networkx\n",
        "import networkx as nx\n",
        "import matplotlib.pyplot as plt\n",
        "from torch_geometric.utils.convert import to_networkx\n",
        "\n",
        "viz_g = to_networkx(data)\n",
        "\n",
        "plt.figure(1,figsize=(7,6)) \n",
        "nx.draw(viz_g, cmap=plt.get_cmap('Set1'),node_size=25,linewidths=6)\n",
        "plt.show()"
      ],
      "execution_count": 6,
      "outputs": [
        {
          "output_type": "stream",
          "text": [
            "Requirement already satisfied: networkx in /usr/local/lib/python3.7/dist-packages (2.5)\n",
            "Requirement already satisfied: decorator>=4.3.0 in /usr/local/lib/python3.7/dist-packages (from networkx) (4.4.2)\n"
          ],
          "name": "stdout"
        },
        {
          "output_type": "display_data",
          "data": {
            "image/png": "[encoded data removed]",
            "text/plain": [
              "<Figure size 504x432 with 1 Axes>"
            ]
          },
          "metadata": {
            "tags": []
          }
        }
      ]
    },
    {
      "cell_type": "markdown",
      "metadata": {
        "id": "3FMLKvPbVqWy"
      },
      "source": [
        "**Build model**\n",
        "\n",
        "Here for the demo purpose, we only consider a simple model consisting of 2 GCNConv layers followed by a global max pooling layer to get the graph representaiton, but there are many more better performing layers / models you can work with in the PyTorch geometric. They include almost all recent graph convnet models and even if you don't want to use this library, you can check out their implementations as a reference. \n",
        "\n",
        "For a complete model/layer list and their algorithms (including the GCNConv we'll use here), check out: https://pytorch-geometric.readthedocs.io/en/latest/modules/nn.html \n",
        "\n",
        "For this particular dataset, you can check out its current leaderboard and play with the model to achieve a better performance: https://paperswithcode.com/sota/graph-classification-on-enzymes "
      ]
    },
    {
      "cell_type": "code",
      "metadata": {
        "id": "ExDMC1-jUdRi"
      },
      "source": [
        "import torch.nn.functional as F\n",
        "from torch_geometric.nn import GCNConv, global_max_pool, global_mean_pool\n",
        "\n",
        "class Net(torch.nn.Module):\n",
        "    def __init__(self, hidn=16):\n",
        "        super(Net, self).__init__()\n",
        "        ### 1 layer\n",
        "        # self.conv1 = GCNConv(dataset.num_node_features, dataset.num_classes)\n",
        "\n",
        "        ### 2 layers\n",
        "        self.conv1 = GCNConv(dataset.num_node_features, hidn)\n",
        "        self.conv2 = GCNConv(hidn, dataset.num_classes)\n",
        "        \n",
        "\n",
        "    def forward(self, data, batch):\n",
        "        x, edge_index = data.x, data.edge_index\n",
        "\n",
        "        ### 1 layer\n",
        "        # x = self.conv1(x, edge_index)\n",
        "\n",
        "        ### 2 layers\n",
        "        x = F.relu(self.conv1(x, edge_index))\n",
        "        x = F.dropout(x, training=self.training)\n",
        "        x = self.conv2(x, edge_index)\n",
        "\n",
        "        x = global_max_pool(x, batch)\n",
        "        return F.log_softmax(x, dim=1)\n",
        "\n",
        "model = Net().to(device)"
      ],
      "execution_count": 7,
      "outputs": []
    },
    {
      "cell_type": "markdown",
      "metadata": {
        "id": "NYZf-Z97qSd3"
      },
      "source": [
        "**Training**\n",
        "\n",
        "One notice here: \"batch\" attribute in \"batch_data.batch\" below is a column vector indicating each node's graph, more about bathcing in PyTorch geometric: https://pytorch-geometric.readthedocs.io/en/latest/notes/introduction.html#mini-batches "
      ]
    },
    {
      "cell_type": "code",
      "metadata": {
        "colab": {
          "base_uri": "https://localhost:8080/"
        },
        "id": "U7_s2-iFqOYJ",
        "outputId": "2c2bb162-4e50-4cd1-f359-9e072f5cc01e"
      },
      "source": [
        "from torch_geometric.data import DataLoader\n",
        "\n",
        "### training parameters\n",
        "num_epochs = 500\n",
        "batch_size = 64\n",
        "lr = 5e-3\n",
        "weight_decay = 5e-4\n",
        "\n",
        "optimizer = torch.optim.Adam(model.parameters(), lr=lr, weight_decay=weight_decay)\n",
        "val_loader = DataLoader(val_dataset, batch_size=batch_size, shuffle=False)\n",
        "\n",
        "### training loops\n",
        "train_accs = []\n",
        "val_accs = []\n",
        "max_acc = 0\n",
        "for epoch in range(num_epochs):\n",
        "\n",
        "  ## train\n",
        "  model.train()\n",
        "  correct = 0\n",
        "  train_loader = DataLoader(train_dataset, batch_size=batch_size, shuffle=True)\n",
        "  for batch_data in train_loader:\n",
        "    optimizer.zero_grad()\n",
        "    out = model(batch_data, batch_data.batch)\n",
        "    loss = F.nll_loss(out, batch_data.y)\n",
        "    loss.backward()\n",
        "    optimizer.step()\n",
        "    _, pred = out.max(dim=1)\n",
        "    correct += int(pred.eq(batch_data.y).sum().item())\n",
        "  train_acc = correct / int(len(train_dataset))\n",
        "  train_accs.append(train_acc)\n",
        "  \n",
        "  ## validation\n",
        "  model.eval()\n",
        "  correct = 0\n",
        "  for batch_data in val_loader:\n",
        "    with torch.no_grad():\n",
        "      _, pred = model(batch_data, batch_data.batch).max(dim=1)\n",
        "    correct += int(pred.eq(batch_data.y).sum().item())\n",
        "  val_acc = correct / int(len(val_dataset))\n",
        "  val_accs.append(val_acc)\n",
        "\n",
        "  # save the best model and print out accuracies\n",
        "  if val_acc > max_acc:\n",
        "    max_acc = val_acc\n",
        "    torch.save(model.state_dict(), 'enzyme_model.pth')\n",
        "    print('Epoch {}, training accuracy: {:.4f}, validation accuracy: {:.4f}'.format(epoch, train_acc, val_acc))\n",
        "print('best validation accuracy:', max_acc)"
      ],
      "execution_count": 8,
      "outputs": [
        {
          "output_type": "stream",
          "text": [
            "Epoch 0, training accuracy: 0.1600, validation accuracy: 0.2400\n",
            "Epoch 7, training accuracy: 0.1956, validation accuracy: 0.2500\n",
            "Epoch 12, training accuracy: 0.2044, validation accuracy: 0.2900\n",
            "Epoch 53, training accuracy: 0.2400, validation accuracy: 0.3000\n",
            "Epoch 213, training accuracy: 0.2600, validation accuracy: 0.3100\n",
            "Epoch 242, training accuracy: 0.2667, validation accuracy: 0.3300\n",
            "best validation accuracy: 0.33\n"
          ],
          "name": "stdout"
        }
      ]
    },
    {
      "cell_type": "code",
      "metadata": {
        "colab": {
          "base_uri": "https://localhost:8080/",
          "height": 265
        },
        "id": "5dWICpvT46qa",
        "outputId": "9079e58e-fb6f-41d9-a787-dc574235b7ef"
      },
      "source": [
        "### plot train & val acc curves v.s. epochs\n",
        "plt.plot(train_accs, label='train acc')\n",
        "plt.plot(val_accs, label='val acc')\n",
        "plt.legend()\n",
        "plt.show()"
      ],
      "execution_count": 9,
      "outputs": [
        {
          "output_type": "display_data",
          "data": {
            "image/png": "[encoded data removed]",
            "text/plain": [
              "<Figure size 432x288 with 1 Axes>"
            ]
          },
          "metadata": {
            "tags": [],
            "needs_background": "light"
          }
        }
      ]
    },
    {
      "cell_type": "markdown",
      "metadata": {
        "id": "yUDfnH4Q07bd"
      },
      "source": [
        "**Testing**"
      ]
    },
    {
      "cell_type": "code",
      "metadata": {
        "id": "GTKogI8vxTaM",
        "outputId": "f975455e-42c2-4c4f-9808-ed6b11cf8f5a",
        "colab": {
          "base_uri": "https://localhost:8080/"
        }
      },
      "source": [
        "test_loader = DataLoader(test_dataset, batch_size= batch_size)\n",
        "\n",
        "## testing\n",
        "model.eval()\n",
        "correct = 0\n",
        "\n",
        "for batch_data in test_loader:\n",
        "  with torch.no_grad():\n",
        "    _, pred = model(batch_data, batch_data.batch).max(dim=1)\n",
        "  s = pred.eq(batch_data.y).sum()\n",
        "  print(s)\n",
        "  correct += int(pred.eq(batch_data.y).sum().item())\n",
        "\n",
        "test_acc = correct / int(len(val_dataset))\n",
        "print(\"test accuracy:\", test_acc)\n"
      ],
      "execution_count": 11,
      "outputs": [
        {
          "output_type": "stream",
          "text": [
            "tensor(16)\n",
            "test accuracy: 0.16\n"
          ],
          "name": "stdout"
        }
      ]
    },
    {
      "cell_type": "code",
      "metadata": {
        "id": "nhJ_xpU-PeMn"
      },
      "source": [
        ""
      ],
      "execution_count": null,
      "outputs": []
    }
  ]
}